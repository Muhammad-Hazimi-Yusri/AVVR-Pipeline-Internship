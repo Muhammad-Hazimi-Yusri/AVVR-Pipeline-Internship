{
 "cells": [
  {
   "cell_type": "code",
   "execution_count": 1,
   "id": "84348fc9",
   "metadata": {},
   "outputs": [
    {
     "name": "stdout",
     "output_type": "stream",
     "text": [
      "Python 3.8.19\n"
     ]
    }
   ],
   "source": [
    "!python --version"
   ]
  },
  {
   "cell_type": "markdown",
   "id": "7df1161c",
   "metadata": {},
   "source": [
    "# RIR Deconvolution and Acoustic Parameters Estiation (EDT - RT60)"
   ]
  },
  {
   "cell_type": "markdown",
   "id": "57be83b0",
   "metadata": {},
   "source": [
    "The recorded sound in unity platform for a certian scene is deconvolved to get the room acoustic propertits in room impulse response (RIR). Early decay time (EDT) and reverberation time (RT60) are calculated."
   ]
  },
  {
   "cell_type": "code",
   "execution_count": 2,
   "id": "6f5c098a-8dc5-4005-b91c-00bb4e3a1382",
   "metadata": {},
   "outputs": [
    {
     "name": "stdout",
     "output_type": "stream",
     "text": [
      "Installed kernelspec RIR_env in C:\\Users\\kproject\\AppData\\Roaming\\jupyter\\kernels\\rir_env\n"
     ]
    }
   ],
   "source": [
    "!python -m ipykernel install --user --name RIR_env --display-name \"Python (RIR_env)\"\n"
   ]
  },
  {
   "cell_type": "code",
   "execution_count": 3,
   "id": "d2d79d8c-ade2-4859-ad4e-aca5df8a4a12",
   "metadata": {},
   "outputs": [
    {
     "name": "stdout",
     "output_type": "stream",
     "text": [
      "Defaulting to user installation because normal site-packages is not writeable\n",
      "Requirement already satisfied: numpy in c:\\programdata\\anaconda3\\lib\\site-packages (1.24.3)\n",
      "Note: you may need to restart the kernel to use updated packages.\n"
     ]
    }
   ],
   "source": [
    "#%pip install numpy"
   ]
  },
  {
   "cell_type": "code",
   "execution_count": 4,
   "id": "9e0abda2-30e8-4ea9-ab09-20aeca250fb3",
   "metadata": {},
   "outputs": [
    {
     "name": "stdout",
     "output_type": "stream",
     "text": [
      "Defaulting to user installation because normal site-packages is not writeable\n",
      "Requirement already satisfied: scipy in c:\\programdata\\anaconda3\\lib\\site-packages (1.11.4)\n",
      "Requirement already satisfied: numpy<1.28.0,>=1.21.6 in c:\\programdata\\anaconda3\\lib\\site-packages (from scipy) (1.24.3)\n",
      "Note: you may need to restart the kernel to use updated packages.\n"
     ]
    }
   ],
   "source": [
    "#%pip install scipy\n"
   ]
  },
  {
   "cell_type": "code",
   "execution_count": 6,
   "id": "a4d644a9-54d2-4ab3-938a-4d100fb2d394",
   "metadata": {},
   "outputs": [
    {
     "name": "stdout",
     "output_type": "stream",
     "text": [
      "Defaulting to user installation because normal site-packages is not writeable\n",
      "Requirement already satisfied: matplotlib in c:\\programdata\\anaconda3\\lib\\site-packages (3.8.0)\n",
      "Requirement already satisfied: contourpy>=1.0.1 in c:\\programdata\\anaconda3\\lib\\site-packages (from matplotlib) (1.2.0)\n",
      "Requirement already satisfied: cycler>=0.10 in c:\\programdata\\anaconda3\\lib\\site-packages (from matplotlib) (0.11.0)\n",
      "Requirement already satisfied: fonttools>=4.22.0 in c:\\programdata\\anaconda3\\lib\\site-packages (from matplotlib) (4.25.0)\n",
      "Requirement already satisfied: kiwisolver>=1.0.1 in c:\\programdata\\anaconda3\\lib\\site-packages (from matplotlib) (1.4.4)\n",
      "Requirement already satisfied: numpy<2,>=1.21 in c:\\programdata\\anaconda3\\lib\\site-packages (from matplotlib) (1.24.3)\n",
      "Requirement already satisfied: packaging>=20.0 in c:\\programdata\\anaconda3\\lib\\site-packages (from matplotlib) (23.1)\n",
      "Requirement already satisfied: pillow>=6.2.0 in c:\\programdata\\anaconda3\\lib\\site-packages (from matplotlib) (10.0.1)\n",
      "Requirement already satisfied: pyparsing>=2.3.1 in c:\\programdata\\anaconda3\\lib\\site-packages (from matplotlib) (3.0.9)\n",
      "Requirement already satisfied: python-dateutil>=2.7 in c:\\programdata\\anaconda3\\lib\\site-packages (from matplotlib) (2.8.2)\n",
      "Requirement already satisfied: six>=1.5 in c:\\programdata\\anaconda3\\lib\\site-packages (from python-dateutil>=2.7->matplotlib) (1.16.0)\n",
      "Note: you may need to restart the kernel to use updated packages.\n"
     ]
    }
   ],
   "source": [
    "#%pip install matplotlib\n"
   ]
  },
  {
   "cell_type": "code",
   "execution_count": 7,
   "id": "a9aac7fd-3e4e-420e-856b-37cd04a16149",
   "metadata": {},
   "outputs": [
    {
     "name": "stdout",
     "output_type": "stream",
     "text": [
      "Defaulting to user installation because normal site-packages is not writeable\n",
      "Collecting audiolazy\n",
      "  Obtaining dependency information for audiolazy from https://files.pythonhosted.org/packages/65/97/0b9528016ce0d4d11380d9864b6fe3b3f7d8b358a841e3489fa84fd18792/audiolazy-0.6-py2.py3-none-any.whl.metadata\n",
      "  Downloading audiolazy-0.6-py2.py3-none-any.whl.metadata (45 kB)\n",
      "     ---------------------------------------- 0.0/45.1 kB ? eta -:--:--\n",
      "     ---------------------------------------- 45.1/45.1 kB 1.1 MB/s eta 0:00:00\n",
      "Downloading audiolazy-0.6-py2.py3-none-any.whl (121 kB)\n",
      "   ---------------------------------------- 0.0/121.3 kB ? eta -:--:--\n",
      "   ---------------------------------------- 121.3/121.3 kB 7.4 MB/s eta 0:00:00\n",
      "Installing collected packages: audiolazy\n",
      "Successfully installed audiolazy-0.6\n",
      "Note: you may need to restart the kernel to use updated packages.\n"
     ]
    }
   ],
   "source": [
    "#%pip install audiolazy\n"
   ]
  },
  {
   "cell_type": "code",
   "execution_count": 3,
   "id": "03f35449",
   "metadata": {},
   "outputs": [],
   "source": [
    "from scipy.io import wavfile\n",
    "import os\n",
    "from scipy.io.wavfile import write as wavwrite\n",
    "import numpy as np\n",
    "from scipy import signal\n",
    "from scipy.signal import fftconvolve\n",
    "#import deconvolotion3 as deconvolution\n",
    "import matplotlib.pyplot as plt\n",
    "from scipy.io.wavfile import read\n",
    "#from RIR_Segmentation import Segmentation\n",
    "from IPython.core.interactiveshell import InteractiveShell\n",
    "InteractiveShell.ast_node_interactivity = \"all\"\n",
    "from scipy.signal import resample\n"
   ]
  },
  {
   "cell_type": "code",
   "execution_count": 6,
   "id": "43bf15ee-83aa-4fc9-a752-59d4a1e65321",
   "metadata": {},
   "outputs": [
    {
     "name": "stdout",
     "output_type": "stream",
     "text": [
      "Sine sweep and inverse filter generated and saved as 16-bit WAV files.\n"
     ]
    },
    {
     "data": {
      "text/plain": [
       "(array([0, 0, 0, ..., 0, 0, 0], dtype=int16),\n",
       " array([0, 0, 0, ..., 0, 0, 0], dtype=int16))"
      ]
     },
     "execution_count": 6,
     "metadata": {},
     "output_type": "execute_result"
    }
   ],
   "source": [
    "import numpy as np\n",
    "from scipy.io.wavfile import write as wavwrite\n",
    "import scipy.signal as signal\n",
    "from scipy.io.wavfile import read\n",
    "from scipy.signal import resample\n",
    "\n",
    "def generate_exponential_sine_sweep(fs=48000, amplitude=0.5, duration=10, silenceAtStart=1, silenceAtEnd=1, sweeprange=[20, 20000], bit_depth=16):\n",
    "    \"\"\"\n",
    "    Generate an exponential sine sweep and its inverse filter, and save them as WAV files with the specified bit depth.\n",
    "    \n",
    "    Parameters:\n",
    "    - fs: Sampling rate (Hz)\n",
    "    - amplitude: Amplitude of the sine sweep\n",
    "    - duration: Duration of the sine sweep (seconds)\n",
    "    - silenceAtStart: Silence duration at the start (seconds)\n",
    "    - silenceAtEnd: Silence duration at the end (seconds)\n",
    "    - sweeprange: Start and end frequencies of the sweep (Hz)\n",
    "    - bit_depth: Bit depth of the output WAV files (16, 24, or 32)\n",
    "    \"\"\"\n",
    "    # Define the frequency range for the sweep\n",
    "    f1 = max(sweeprange[0], 1)  # start of sweep in Hz\n",
    "    f2 = sweeprange[1] if sweeprange[1] != 0 else int(fs / 2)  # end of sweep in Hz\n",
    "    \n",
    "    w1 = 2 * np.pi * f1 / fs  # start of sweep in rad/sample\n",
    "    w2 = 2 * np.pi * f2 / fs  # end of sweep in rad/sample\n",
    "    \n",
    "    numSamples = duration * fs\n",
    "    taxis = np.arange(0, numSamples) / numSamples\n",
    "\n",
    "    # Generate the exponential sine sweep\n",
    "    lw = np.log(w2 / w1)\n",
    "    sinsweep = amplitude * np.sin(w1 * numSamples / lw * (np.exp(taxis * lw) - 1))\n",
    "    \n",
    "    # Find the last zero crossing to avoid the need for fadeout\n",
    "    k = np.flipud(sinsweep)\n",
    "    error = 1\n",
    "    counter = 0\n",
    "    max_iterations = numSamples  # to avoid infinite loop\n",
    "\n",
    "    while error > 0.001 and counter < max_iterations:\n",
    "        error = np.abs(k[counter])\n",
    "        counter += 1\n",
    "\n",
    "    k = k[counter:]\n",
    "    sinsweep_hat = np.flipud(k)\n",
    "    sinsweep = np.zeros(shape=(numSamples,))\n",
    "    sinsweep[:sinsweep_hat.shape[0]] = sinsweep_hat\n",
    "\n",
    "    # Compute the inverse filter\n",
    "    envelope = (w2 / w1) ** (-taxis)\n",
    "    invfilter = np.flipud(sinsweep) * envelope\n",
    "    scaling = np.pi * numSamples * (w1 / w2 - 1) / (2 * (w2 - w1) * np.log(w1 / w2)) * (w2 - w1) / np.pi\n",
    "    invfilter = invfilter / amplitude ** 2 / scaling\n",
    "\n",
    "    # Apply a Tukey window to taper the sine sweep\n",
    "    taperStart = signal.tukey(numSamples, 0.1)  # Adjust alpha parameter for tapering\n",
    "    sinsweep *= taperStart\n",
    "\n",
    "    # Add silence at the start and end\n",
    "    zerostart = np.zeros(shape=(silenceAtStart * fs,))\n",
    "    zeroend = np.zeros(shape=(silenceAtEnd * fs,))\n",
    "    sinsweep = np.concatenate((zerostart, sinsweep, zeroend))\n",
    "\n",
    "    # Normalize and convert to the specified bit depth\n",
    "    if bit_depth == 16:\n",
    "        sinsweep = np.int16(sinsweep / np.max(np.abs(sinsweep)) * 32767)\n",
    "        invfilter = np.int16(invfilter / np.max(np.abs(invfilter)) * 32767)\n",
    "        wavwrite('sine_sweep_16bit.wav', fs, sinsweep)\n",
    "        wavwrite('inverse_filter_16bit.wav', fs, invfilter)\n",
    "\n",
    "        import os\n",
    "        # Define the relative path, go up twice, and then to the sounds folder\n",
    "        relative_path = os.path.join('..', '..', 'Atiyeh-RIR-evaluation-Matlab', 'sounds', 'KT_GDP')\n",
    "        # Create the full paths for the files\n",
    "        sine_sweep_path = os.path.join(relative_path, 'sine_sweep_16bit.wav')\n",
    "        inverse_filter_path = os.path.join(relative_path, 'inverse_filter_16bit.wav')\n",
    "        # Write the files\n",
    "        wavwrite(sine_sweep_path, fs, sinsweep)\n",
    "        wavwrite(inverse_filter_path, fs, invfilter)\n",
    "\n",
    "    elif bit_depth == 24:\n",
    "        sinsweep = np.int32(sinsweep / np.max(np.abs(sinsweep)) * 8388607)\n",
    "        invfilter = np.int32(invfilter / np.max(np.abs(invfilter)) * 8388607)\n",
    "        wavfile.write('sine_sweep_24bit.wav', sinsweep, fs, subtype='PCM_24')\n",
    "        wavfile.write('inverse_filter_24bit.wav', invfilter, fs, subtype='PCM_24')\n",
    "    elif bit_depth == 32:\n",
    "        sinsweep = sinsweep.astype(np.float32)\n",
    "        invfilter = invfilter.astype(np.float32)\n",
    "        wavwrite('sine_sweep_32bit.wav', fs, sinsweep)\n",
    "        wavwrite('inverse_filter_32bit.wav', fs, invfilter)\n",
    "    else:\n",
    "        raise ValueError(\"Unsupported bit depth. Choose 16, 24, or 32.\")\n",
    "\n",
    "    print(f'Sine sweep and inverse filter generated and saved as {bit_depth}-bit WAV files.')\n",
    "    return sinsweep, invfilter\n",
    "\n",
    "# Run the function to generate the sine sweep and its inverse\n",
    "generate_exponential_sine_sweep(bit_depth=16)  # Change bit_depth to 16, 24, or 32 as needed\n"
   ]
  },
  {
   "cell_type": "code",
   "execution_count": 14,
   "id": "9f4839a8-f8e5-45b0-b1ce-bc13a4740a90",
   "metadata": {},
   "outputs": [
    {
     "name": "stdout",
     "output_type": "stream",
     "text": [
      "fs_recorded 48000\n",
      "record (1200000, 2)\n",
      "record_ch1 (1200000,)\n",
      "Room impulse response generated and saved as ..\\..\\Atiyeh-RIR-evaluation-Matlab\\sounds\\KT_GDP\\RIR_KT_Unity_bf.wav\n"
     ]
    }
   ],
   "source": [
    "\n",
    "def deconvolve(recorded_sweep_path, inverse_filter_path, output_path):\n",
    "    \"\"\"\n",
    "    Perform deconvolution to generate a room impulse response from a recorded sweep.\n",
    "    \n",
    "    Parameters:\n",
    "    - recorded_sweep_path: Path to the recorded sweep audio file (WAV)\n",
    "    - inverse_filter_path: Path to the inverse filter audio file (WAV)\n",
    "    - output_path: Path to save the room impulse response (WAV)\n",
    "    \"\"\"\n",
    "    # Load the recorded sweep and the inverse filter\n",
    "    fs, recorded_sweep = wavfile.read(recorded_sweep_path)\n",
    "    fs_inv, inverse_filter = wavfile.read(inverse_filter_path)\n",
    "    \n",
    "    \n",
    "    # Perform deconvolution (convolution with the inverse filter)\n",
    "    rir = signal.fftconvolve(recorded_sweep, inverse_filter, mode='full')\n",
    "    \n",
    "    # Normalize the impulse response\n",
    "    rir = rir / np.max(np.abs(rir))\n",
    "    \n",
    "    # Save the room impulse response as a WAV file\n",
    "    wavfile.write(output_path, fs, rir)\n",
    "    \n",
    "    print(f'Room impulse response generated and saved as {output_path}')\n",
    "    return rir, fs\n",
    "\n",
    "#### Read the recorded file\n",
    "f, rec = wavfile.read('./KT_Unity_bf.wav')\n",
    "rec = np.array(rec)\n",
    "print('fs_recorded', f)\n",
    "# Truncate one channel for deconvolution\n",
    "rec_ch1 = rec[:, 1]\n",
    "print('record', rec.shape)\n",
    "print('record_ch1', rec_ch1.shape)\n",
    "#wavwrite('MR_Unity_ch1.wav', f, rec_ch1.astype(np.float32))\n",
    "wavwrite('KT_Unity_ch1_bf.wav', f, rec_ch1)\n",
    "\n",
    "import os\n",
    "\n",
    "# Define the relative path (same as before)\n",
    "relative_path = os.path.join('..', '..', 'Atiyeh-RIR-evaluation-Matlab', 'sounds', 'KT_GDP')\n",
    "\n",
    "# Define paths for input and output files\n",
    "recorded_sweep_path = 'KT_Unity_ch1_bf.wav'  # Assuming this is in the current directory\n",
    "inverse_filter_path = 'inverse_filter_16bit.wav'  # Assuming this is in the current directory\n",
    "output_path = os.path.join(relative_path, 'RIR_KT_Unity_bf.wav')\n",
    "\n",
    "# Generate room impulse response\n",
    "rir, fs = deconvolve(recorded_sweep_path, inverse_filter_path, output_path)\n",
    "\n",
    "# Write the RIR to the specified path\n",
    "wavwrite(output_path, fs, rir)"
   ]
  },
  {
   "cell_type": "code",
   "execution_count": 31,
   "id": "10a59bbf-662c-4765-8059-be8be6954cf3",
   "metadata": {},
   "outputs": [
    {
     "name": "stdout",
     "output_type": "stream",
     "text": [
      "fs_recorded 44100\n",
      "record (1317932, 2)\n",
      "record_ch1 (1317932,)\n",
      "Files saved locally as RIR_KT_gun_Unity_ch1_v2.wav and in relative path as ..\\..\\Atiyeh-RIR-evaluation-Matlab\\sounds\\KT_GDP\\RIR_KT_gun_Unity_ch1_v2.wav\n"
     ]
    }
   ],
   "source": [
    "################################################# Gun shot RIR ###################################################################\n",
    "import os\n",
    "from scipy.io import wavfile\n",
    "\n",
    "# Define the relative path (same as before)\n",
    "relative_path = os.path.join('..', '..', 'Atiyeh-RIR-evaluation-Matlab', 'sounds', 'KT_GDP')\n",
    "\n",
    "# Gun shot RIR\n",
    "# Read the recorded file\n",
    "input_file = 'RIR_KT_gun_Unity_dual_v2.wav'\n",
    "f, rec = wavfile.read(input_file)\n",
    "rec = np.array(rec)\n",
    "print('fs_recorded', f)\n",
    "\n",
    "# Truncate one channel for deconvolution\n",
    "rec_ch1 = rec[:, 1]\n",
    "print('record', rec.shape)\n",
    "print('record_ch1', rec_ch1.shape)\n",
    "\n",
    "# Define output paths\n",
    "local_output = 'RIR_KT_gun_Unity_ch1_v2.wav'\n",
    "relative_output = os.path.join(relative_path, 'RIR_KT_gun_Unity_ch1_v2.wav')\n",
    "\n",
    "# Write the single channel audio to local and relative paths\n",
    "wavfile.write(local_output, f, rec_ch1)\n",
    "wavfile.write(relative_output, f, rec_ch1)  # Note: using rec_ch1 instead of rir\n",
    "\n",
    "print(f\"Files saved locally as {local_output} and in relative path as {relative_output}\")"
   ]
  }
 ],
 "metadata": {
  "kernelspec": {
   "display_name": "Python 3",
   "language": "python",
   "name": "python3"
  },
  "language_info": {
   "codemirror_mode": {
    "name": "ipython",
    "version": 3
   },
   "file_extension": ".py",
   "mimetype": "text/x-python",
   "name": "python",
   "nbconvert_exporter": "python",
   "pygments_lexer": "ipython3",
   "version": "3.8.19"
  }
 },
 "nbformat": 4,
 "nbformat_minor": 5
}
